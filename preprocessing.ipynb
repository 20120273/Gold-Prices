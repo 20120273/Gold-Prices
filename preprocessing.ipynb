{
 "cells": [
  {
   "cell_type": "code",
   "execution_count": 2,
   "metadata": {},
   "outputs": [],
   "source": [
    "import matplotlib.pyplot as plt\n",
    "import seaborn as sns\n",
    "import pandas as pd\n",
    "import numpy as np"
   ]
  },
  {
   "cell_type": "markdown",
   "metadata": {},
   "source": [
    "<h1><b>B. Khám phá dữ liệu (đan xen với tiền xử lý dữ liệu)</b></h1>"
   ]
  },
  {
   "attachments": {},
   "cell_type": "markdown",
   "metadata": {},
   "source": [
    "### Đọc dữ liệu từ tập tin (file)\n",
    "\n",
    "Đầu tiên, đọc dữ liệu từ file \"gold.csv\" và lưu kết quả vào DataFrame df_gold."
   ]
  },
  {
   "cell_type": "code",
   "execution_count": 3,
   "metadata": {},
   "outputs": [
    {
     "data": {
      "text/html": [
       "<div>\n",
       "<style scoped>\n",
       "    .dataframe tbody tr th:only-of-type {\n",
       "        vertical-align: middle;\n",
       "    }\n",
       "\n",
       "    .dataframe tbody tr th {\n",
       "        vertical-align: top;\n",
       "    }\n",
       "\n",
       "    .dataframe thead th {\n",
       "        text-align: right;\n",
       "    }\n",
       "</style>\n",
       "<table border=\"1\" class=\"dataframe\">\n",
       "  <thead>\n",
       "    <tr style=\"text-align: right;\">\n",
       "      <th></th>\n",
       "      <th>Date</th>\n",
       "      <th>Open</th>\n",
       "      <th>High</th>\n",
       "      <th>Low</th>\n",
       "      <th>Close</th>\n",
       "      <th>Volume</th>\n",
       "      <th>Currency</th>\n",
       "    </tr>\n",
       "  </thead>\n",
       "  <tbody>\n",
       "    <tr>\n",
       "      <th>0</th>\n",
       "      <td>2000-01-04</td>\n",
       "      <td>289.5</td>\n",
       "      <td>289.5</td>\n",
       "      <td>280.0</td>\n",
       "      <td>283.7</td>\n",
       "      <td>21621</td>\n",
       "      <td>USD</td>\n",
       "    </tr>\n",
       "    <tr>\n",
       "      <th>1</th>\n",
       "      <td>2000-01-05</td>\n",
       "      <td>283.7</td>\n",
       "      <td>285.0</td>\n",
       "      <td>281.0</td>\n",
       "      <td>282.1</td>\n",
       "      <td>25448</td>\n",
       "      <td>USD</td>\n",
       "    </tr>\n",
       "    <tr>\n",
       "      <th>2</th>\n",
       "      <td>2000-01-06</td>\n",
       "      <td>281.6</td>\n",
       "      <td>282.8</td>\n",
       "      <td>280.2</td>\n",
       "      <td>282.4</td>\n",
       "      <td>19055</td>\n",
       "      <td>USD</td>\n",
       "    </tr>\n",
       "    <tr>\n",
       "      <th>3</th>\n",
       "      <td>2000-01-07</td>\n",
       "      <td>282.5</td>\n",
       "      <td>284.5</td>\n",
       "      <td>282.0</td>\n",
       "      <td>282.9</td>\n",
       "      <td>11266</td>\n",
       "      <td>USD</td>\n",
       "    </tr>\n",
       "    <tr>\n",
       "      <th>4</th>\n",
       "      <td>2000-01-10</td>\n",
       "      <td>282.4</td>\n",
       "      <td>283.9</td>\n",
       "      <td>281.8</td>\n",
       "      <td>282.7</td>\n",
       "      <td>30603</td>\n",
       "      <td>USD</td>\n",
       "    </tr>\n",
       "  </tbody>\n",
       "</table>\n",
       "</div>"
      ],
      "text/plain": [
       "         Date   Open   High    Low  Close  Volume Currency\n",
       "0  2000-01-04  289.5  289.5  280.0  283.7   21621      USD\n",
       "1  2000-01-05  283.7  285.0  281.0  282.1   25448      USD\n",
       "2  2000-01-06  281.6  282.8  280.2  282.4   19055      USD\n",
       "3  2000-01-07  282.5  284.5  282.0  282.9   11266      USD\n",
       "4  2000-01-10  282.4  283.9  281.8  282.7   30603      USD"
      ]
     },
     "execution_count": 3,
     "metadata": {},
     "output_type": "execute_result"
    }
   ],
   "source": [
    "df_gold = pd.read_csv('gold.csv')\n",
    "df_gold.head()"
   ]
  },
  {
   "cell_type": "markdown",
   "metadata": {},
   "source": [
    "### Dữ liệu có bao nhiêu dòng và bao nhiêu cột"
   ]
  },
  {
   "cell_type": "code",
   "execution_count": 4,
   "metadata": {},
   "outputs": [
    {
     "data": {
      "text/plain": [
       "(5703, 7)"
      ]
     },
     "execution_count": 4,
     "metadata": {},
     "output_type": "execute_result"
    }
   ],
   "source": [
    "df_gold.shape"
   ]
  },
  {
   "attachments": {},
   "cell_type": "markdown",
   "metadata": {},
   "source": [
    "Dữ liệu có 5703 dòng và 7 cột"
   ]
  },
  {
   "cell_type": "markdown",
   "metadata": {},
   "source": [
    "### Mỗi dòng có ý nghĩa gì? Có vấn đề các dòng có ý nghĩa khác nhau không?"
   ]
  },
  {
   "attachments": {},
   "cell_type": "markdown",
   "metadata": {},
   "source": [
    "Mỗi dòng trong DataFrame `df_vege` cho biết thông tin của giá vàng trong một này, bao gồm ngày, khối lượng bán ra,.. Có vẻ không có vấn đề các dòng có ý nghĩa khác nhau."
   ]
  },
  {
   "cell_type": "markdown",
   "metadata": {},
   "source": [
    "### Dữ liệu có các dòng bị lặp không?"
   ]
  },
  {
   "cell_type": "markdown",
   "metadata": {},
   "source": [
    "Ta sẽ xem thử rằng trong tập có dòng nào bị trùng không. Nếu trùng thì trả về True, không thì là False và lưu số dòng trùng vào biến num_duplicated_rows"
   ]
  },
  {
   "cell_type": "code",
   "execution_count": 5,
   "metadata": {},
   "outputs": [
    {
     "name": "stdout",
     "output_type": "stream",
     "text": [
      "So dong lap la 0\n",
      "Bo du lieu khong lap\n"
     ]
    }
   ],
   "source": [
    "#Tính tổng dòng lặp\n",
    "num_duplicated_rows = df_gold.duplicated().sum()\n",
    "is_duplicated = (num_duplicated_rows != 0)\n",
    "print('So dong lap la {}'.format(num_duplicated_rows))\n",
    "if is_duplicated == False:\n",
    "    print('Bo du lieu khong lap')"
   ]
  },
  {
   "cell_type": "markdown",
   "metadata": {},
   "source": [
    "Vậy không có dòng lặp trong bộ dữ liệu này"
   ]
  },
  {
   "attachments": {},
   "cell_type": "markdown",
   "metadata": {},
   "source": [
    "### Mỗi cột có ý nghĩa gì?\n",
    "\n",
    "Ý nghĩa của mỗi cột là:\n",
    "\n",
    "- **Date** là ngày giao dịch của giá vàng đó\n",
    "\n",
    "- **Open**  là giá mở cửa của vàng vào ngày giao dịch.\n",
    "\n",
    "- **High** là giá cao nhất của vàng trong ngày giao dịch đó.\n",
    "\n",
    "- **Low** là giá thấp nhất của vàng trong ngày giao dịch đó.\n",
    "\n",
    "- **Close**  là giá đóng cửa của vàng vào ngày giao dịch đó.\n",
    "\n",
    "- **Volume**  là số lượng vàng được giao dịch trong ngày đó.\n",
    "\n",
    "- **Currency** là đơn vị tiền tệ được sử dụng để định giá vàng.\n"
   ]
  },
  {
   "cell_type": "code",
   "execution_count": 6,
   "metadata": {},
   "outputs": [
    {
     "data": {
      "text/plain": [
       "Index(['Date', 'Open', 'High', 'Low', 'Close', 'Volume', 'Currency'], dtype='object')"
      ]
     },
     "execution_count": 6,
     "metadata": {},
     "output_type": "execute_result"
    }
   ],
   "source": [
    "df_gold.columns"
   ]
  },
  {
   "cell_type": "markdown",
   "metadata": {},
   "source": [
    "Ta kiểm tra dạng dữ liệu của các cột để xem có đúng với dạng mà ta mong muốn không."
   ]
  },
  {
   "cell_type": "code",
   "execution_count": 7,
   "metadata": {},
   "outputs": [
    {
     "data": {
      "text/plain": [
       "Date         object\n",
       "Open        float64\n",
       "High        float64\n",
       "Low         float64\n",
       "Close       float64\n",
       "Volume        int64\n",
       "Currency     object\n",
       "dtype: object"
      ]
     },
     "execution_count": 7,
     "metadata": {},
     "output_type": "execute_result"
    }
   ],
   "source": [
    "df_gold.dtypes"
   ]
  },
  {
   "attachments": {},
   "cell_type": "markdown",
   "metadata": {},
   "source": [
    "Ta chuyển cột Date sang dạng datetime"
   ]
  },
  {
   "cell_type": "code",
   "execution_count": 8,
   "metadata": {},
   "outputs": [],
   "source": [
    "df_gold['Date'] = pd.to_datetime(df_gold['Date'],format='%Y-%m-%d')"
   ]
  },
  {
   "cell_type": "markdown",
   "metadata": {},
   "source": [
    "## XỬ LÝ DỮ LIỆU NAN"
   ]
  },
  {
   "cell_type": "markdown",
   "metadata": {},
   "source": [
    "Ta xem thử mỗi cột có bao nhiêu dữ liệu nan"
   ]
  },
  {
   "cell_type": "code",
   "execution_count": 9,
   "metadata": {},
   "outputs": [
    {
     "data": {
      "text/plain": [
       "Date        0\n",
       "Open        0\n",
       "High        0\n",
       "Low         0\n",
       "Close       0\n",
       "Volume      0\n",
       "Currency    0\n",
       "dtype: int64"
      ]
     },
     "execution_count": 9,
     "metadata": {},
     "output_type": "execute_result"
    }
   ],
   "source": [
    "df_gold.isnull().sum()"
   ]
  },
  {
   "cell_type": "markdown",
   "metadata": {},
   "source": [
    "## Với mỗi cột có kiểu dữ liệu dạng số, các giá trị được phân bố như thế nào?"
   ]
  },
  {
   "cell_type": "code",
   "execution_count": 10,
   "metadata": {},
   "outputs": [
    {
     "data": {
      "text/plain": [
       "Index(['Open', 'High', 'Low', 'Close', 'Volume'], dtype='object')"
      ]
     },
     "execution_count": 10,
     "metadata": {},
     "output_type": "execute_result"
    }
   ],
   "source": [
    "dtypes = df_gold.dtypes\n",
    "ind = dtypes[(dtypes == np.float64) | (dtypes == np.int64)].index\n",
    "ind"
   ]
  },
  {
   "cell_type": "markdown",
   "metadata": {},
   "source": [
    "Ta có các cột dữ liệu dạng số 'Rating', 'Year', 'Runtime', 'Budget', 'Income'. Ta sẽ tính min, lower quartile, median, upper quartile, max để xem sự phân bố của dữ liệu và có gì bất thường ở các cột này không?"
   ]
  },
  {
   "cell_type": "code",
   "execution_count": 11,
   "metadata": {},
   "outputs": [
    {
     "data": {
      "text/html": [
       "<div>\n",
       "<style scoped>\n",
       "    .dataframe tbody tr th:only-of-type {\n",
       "        vertical-align: middle;\n",
       "    }\n",
       "\n",
       "    .dataframe tbody tr th {\n",
       "        vertical-align: top;\n",
       "    }\n",
       "\n",
       "    .dataframe thead th {\n",
       "        text-align: right;\n",
       "    }\n",
       "</style>\n",
       "<table border=\"1\" class=\"dataframe\">\n",
       "  <thead>\n",
       "    <tr style=\"text-align: right;\">\n",
       "      <th></th>\n",
       "      <th>Open</th>\n",
       "      <th>High</th>\n",
       "      <th>Low</th>\n",
       "      <th>Close</th>\n",
       "      <th>Volume</th>\n",
       "    </tr>\n",
       "  </thead>\n",
       "  <tbody>\n",
       "    <tr>\n",
       "      <th>min</th>\n",
       "      <td>256.6</td>\n",
       "      <td>259.4</td>\n",
       "      <td>255.1</td>\n",
       "      <td>256.6</td>\n",
       "      <td>0.0</td>\n",
       "    </tr>\n",
       "    <tr>\n",
       "      <th>lower_quartile</th>\n",
       "      <td>459.8</td>\n",
       "      <td>463.9</td>\n",
       "      <td>457.4</td>\n",
       "      <td>460.5</td>\n",
       "      <td>52938.5</td>\n",
       "    </tr>\n",
       "    <tr>\n",
       "      <th>median</th>\n",
       "      <td>1188.8</td>\n",
       "      <td>1198.0</td>\n",
       "      <td>1179.7</td>\n",
       "      <td>1188.7</td>\n",
       "      <td>126006.0</td>\n",
       "    </tr>\n",
       "    <tr>\n",
       "      <th>upper_quartile</th>\n",
       "      <td>1381.4</td>\n",
       "      <td>1392.8</td>\n",
       "      <td>1368.1</td>\n",
       "      <td>1383.0</td>\n",
       "      <td>193109.0</td>\n",
       "    </tr>\n",
       "    <tr>\n",
       "      <th>max</th>\n",
       "      <td>2076.4</td>\n",
       "      <td>2089.2</td>\n",
       "      <td>2049.0</td>\n",
       "      <td>2069.4</td>\n",
       "      <td>816531.0</td>\n",
       "    </tr>\n",
       "  </tbody>\n",
       "</table>\n",
       "</div>"
      ],
      "text/plain": [
       "                  Open    High     Low   Close    Volume\n",
       "min              256.6   259.4   255.1   256.6       0.0\n",
       "lower_quartile   459.8   463.9   457.4   460.5   52938.5\n",
       "median          1188.8  1198.0  1179.7  1188.7  126006.0\n",
       "upper_quartile  1381.4  1392.8  1368.1  1383.0  193109.0\n",
       "max             2076.4  2089.2  2049.0  2069.4  816531.0"
      ]
     },
     "execution_count": 11,
     "metadata": {},
     "output_type": "execute_result"
    }
   ],
   "source": [
    "def five_summary(df_gold):\n",
    "    num_col_info_df = pd.DataFrame([],index= [\"min\", \"lower_quartile\", \"median\", \"upper_quartile\", \"max\" ])\n",
    "    for i in ind:\n",
    "        data = np.nanpercentile(df_gold[i],(0,25,50,75,100)) #tinh min, lower quartile, median, upper quartile, max\n",
    "        num_col_info_df[i] = data.round(1)\n",
    "    return num_col_info_df\n",
    "five_summary(df_gold)"
   ]
  },
  {
   "attachments": {},
   "cell_type": "markdown",
   "metadata": {},
   "source": [
    "Ta thấy giá trị min của Volume bằng 0, đây có thể là một lỗi, vì vậy ta nên xem thử"
   ]
  },
  {
   "cell_type": "code",
   "execution_count": 12,
   "metadata": {},
   "outputs": [
    {
     "data": {
      "text/html": [
       "<div>\n",
       "<style scoped>\n",
       "    .dataframe tbody tr th:only-of-type {\n",
       "        vertical-align: middle;\n",
       "    }\n",
       "\n",
       "    .dataframe tbody tr th {\n",
       "        vertical-align: top;\n",
       "    }\n",
       "\n",
       "    .dataframe thead th {\n",
       "        text-align: right;\n",
       "    }\n",
       "</style>\n",
       "<table border=\"1\" class=\"dataframe\">\n",
       "  <thead>\n",
       "    <tr style=\"text-align: right;\">\n",
       "      <th></th>\n",
       "      <th>Date</th>\n",
       "      <th>Open</th>\n",
       "      <th>High</th>\n",
       "      <th>Low</th>\n",
       "      <th>Close</th>\n",
       "      <th>Volume</th>\n",
       "      <th>Currency</th>\n",
       "    </tr>\n",
       "  </thead>\n",
       "  <tbody>\n",
       "    <tr>\n",
       "      <th>223</th>\n",
       "      <td>2000-11-21</td>\n",
       "      <td>267.0</td>\n",
       "      <td>267.60</td>\n",
       "      <td>265.90</td>\n",
       "      <td>266.1</td>\n",
       "      <td>0</td>\n",
       "      <td>USD</td>\n",
       "    </tr>\n",
       "    <tr>\n",
       "      <th>276</th>\n",
       "      <td>2001-02-09</td>\n",
       "      <td>262.2</td>\n",
       "      <td>263.00</td>\n",
       "      <td>260.70</td>\n",
       "      <td>262.0</td>\n",
       "      <td>0</td>\n",
       "      <td>USD</td>\n",
       "    </tr>\n",
       "    <tr>\n",
       "      <th>277</th>\n",
       "      <td>2001-02-12</td>\n",
       "      <td>262.7</td>\n",
       "      <td>263.40</td>\n",
       "      <td>261.90</td>\n",
       "      <td>262.7</td>\n",
       "      <td>0</td>\n",
       "      <td>USD</td>\n",
       "    </tr>\n",
       "    <tr>\n",
       "      <th>300</th>\n",
       "      <td>2001-03-16</td>\n",
       "      <td>260.0</td>\n",
       "      <td>261.20</td>\n",
       "      <td>258.00</td>\n",
       "      <td>258.4</td>\n",
       "      <td>0</td>\n",
       "      <td>USD</td>\n",
       "    </tr>\n",
       "    <tr>\n",
       "      <th>322</th>\n",
       "      <td>2001-04-18</td>\n",
       "      <td>262.0</td>\n",
       "      <td>263.20</td>\n",
       "      <td>259.20</td>\n",
       "      <td>262.0</td>\n",
       "      <td>0</td>\n",
       "      <td>USD</td>\n",
       "    </tr>\n",
       "    <tr>\n",
       "      <th>422</th>\n",
       "      <td>2001-09-10</td>\n",
       "      <td>275.0</td>\n",
       "      <td>275.80</td>\n",
       "      <td>272.70</td>\n",
       "      <td>273.7</td>\n",
       "      <td>0</td>\n",
       "      <td>USD</td>\n",
       "    </tr>\n",
       "    <tr>\n",
       "      <th>602</th>\n",
       "      <td>2002-06-04</td>\n",
       "      <td>327.7</td>\n",
       "      <td>331.50</td>\n",
       "      <td>327.70</td>\n",
       "      <td>328.8</td>\n",
       "      <td>0</td>\n",
       "      <td>USD</td>\n",
       "    </tr>\n",
       "    <tr>\n",
       "      <th>622</th>\n",
       "      <td>2002-07-02</td>\n",
       "      <td>314.3</td>\n",
       "      <td>316.00</td>\n",
       "      <td>313.00</td>\n",
       "      <td>313.2</td>\n",
       "      <td>0</td>\n",
       "      <td>USD</td>\n",
       "    </tr>\n",
       "    <tr>\n",
       "      <th>724</th>\n",
       "      <td>2002-11-26</td>\n",
       "      <td>318.1</td>\n",
       "      <td>318.90</td>\n",
       "      <td>317.10</td>\n",
       "      <td>317.7</td>\n",
       "      <td>0</td>\n",
       "      <td>USD</td>\n",
       "    </tr>\n",
       "    <tr>\n",
       "      <th>5702</th>\n",
       "      <td>2022-09-02</td>\n",
       "      <td>1707.9</td>\n",
       "      <td>1729.45</td>\n",
       "      <td>1707.05</td>\n",
       "      <td>1723.0</td>\n",
       "      <td>0</td>\n",
       "      <td>USD</td>\n",
       "    </tr>\n",
       "  </tbody>\n",
       "</table>\n",
       "</div>"
      ],
      "text/plain": [
       "           Date    Open     High      Low   Close  Volume Currency\n",
       "223  2000-11-21   267.0   267.60   265.90   266.1       0      USD\n",
       "276  2001-02-09   262.2   263.00   260.70   262.0       0      USD\n",
       "277  2001-02-12   262.7   263.40   261.90   262.7       0      USD\n",
       "300  2001-03-16   260.0   261.20   258.00   258.4       0      USD\n",
       "322  2001-04-18   262.0   263.20   259.20   262.0       0      USD\n",
       "422  2001-09-10   275.0   275.80   272.70   273.7       0      USD\n",
       "602  2002-06-04   327.7   331.50   327.70   328.8       0      USD\n",
       "622  2002-07-02   314.3   316.00   313.00   313.2       0      USD\n",
       "724  2002-11-26   318.1   318.90   317.10   317.7       0      USD\n",
       "5702 2022-09-02  1707.9  1729.45  1707.05  1723.0       0      USD"
      ]
     },
     "execution_count": 12,
     "metadata": {},
     "output_type": "execute_result"
    }
   ],
   "source": [
    "df_gold[df_gold['Volume'] == 0]"
   ]
  },
  {
   "attachments": {},
   "cell_type": "markdown",
   "metadata": {},
   "source": [
    "Volume = 0 có thể là do phiên giao dịch không mở cửa hay do lỗi của quá trình thu thập dữ liệu, vì số lượng không quá nhiều nên ta có thể xoá nó đi để thuận tiện cho việc phân tích"
   ]
  },
  {
   "cell_type": "code",
   "execution_count": 13,
   "metadata": {},
   "outputs": [],
   "source": [
    "df_gold.drop(df_gold[df_gold['Volume'] == 0].index,inplace = True)"
   ]
  },
  {
   "cell_type": "code",
   "execution_count": null,
   "metadata": {},
   "outputs": [],
   "source": [
    "df_gold.to_csv('gold_clean.csv')"
   ]
  }
 ],
 "metadata": {
  "kernelspec": {
   "display_name": "Python 3",
   "language": "python",
   "name": "python3"
  },
  "language_info": {
   "codemirror_mode": {
    "name": "ipython",
    "version": 3
   },
   "file_extension": ".py",
   "mimetype": "text/x-python",
   "name": "python",
   "nbconvert_exporter": "python",
   "pygments_lexer": "ipython3",
   "version": "3.10.8"
  },
  "orig_nbformat": 4
 },
 "nbformat": 4,
 "nbformat_minor": 2
}
